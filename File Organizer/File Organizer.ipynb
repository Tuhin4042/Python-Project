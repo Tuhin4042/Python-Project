{
 "cells": [
  {
   "cell_type": "markdown",
   "id": "ea1108d3-9b63-4042-80e7-84333278b582",
   "metadata": {},
   "source": [
    "## Organize Files by Type Using Python"
   ]
  },
  {
   "cell_type": "code",
   "execution_count": null,
   "id": "0c0ff29a-eb4e-48f6-9410-3c5ec39f2eaa",
   "metadata": {},
   "outputs": [],
   "source": []
  },
  {
   "cell_type": "code",
   "execution_count": 4,
   "id": "03fe1492-b4fc-4042-a75d-68da172c5e33",
   "metadata": {},
   "outputs": [
    {
     "name": "stdin",
     "output_type": "stream",
     "text": [
      "Enter the directory path:  C:\\Users\\Thuhin\\Desktop\\Split\n"
     ]
    },
    {
     "name": "stdout",
     "output_type": "stream",
     "text": [
      "Moved: 4042_4043_58-E_overleaf_CSE322.pdf -> PDFs\n",
      "Moved: download.png -> Images\n",
      "Moved: test.docx -> Documents\n",
      "Moved: Untitled.ipynb -> Python Folder\n",
      "Files organized successfully.\n"
     ]
    }
   ],
   "source": [
    "import os\n",
    "import shutil\n",
    "\n",
    "def organize_files_by_type(directory_path):\n",
    "    try:\n",
    "\n",
    "        if not os.path.exists(directory_path):\n",
    "            print(f\"The directory '{directory_path}' does not exist.\")\n",
    "            return\n",
    "        \n",
    "        # Based on requirement we can add or delet \n",
    "        file_type_folders = {\n",
    "            'jpg': 'Images',\n",
    "            'png': 'Images',\n",
    "            'jpeg': 'Images',\n",
    "            'doc': 'Documents',\n",
    "            'docx': 'Documents',\n",
    "            'pdf': 'PDFs',\n",
    "            'ppt': 'Presentations',\n",
    "            'pptx': 'Presentations',\n",
    "            'txt': 'TextFiles',\n",
    "            'ipynb': 'Python Folder'\n",
    "        }\n",
    "        \n",
    "        folder_needs_creation = {folder: False for folder in set(file_type_folders.values())}\n",
    "\n",
    "        for filename in os.listdir(directory_path):\n",
    "            file_path = os.path.join(directory_path, filename)\n",
    "            \n",
    "            if not os.path.isfile(file_path):\n",
    "                continue\n",
    "            \n",
    "            ext = filename.split('.')[-1].lower()\n",
    "            \n",
    "            if ext in file_type_folders:\n",
    "                destination_folder = file_type_folders[ext]\n",
    "                folder_needs_creation[destination_folder] = True\n",
    "\n",
    "        for folder, needs_creation in folder_needs_creation.items():\n",
    "            if needs_creation:\n",
    "                folder_path = os.path.join(directory_path, folder)\n",
    "                os.makedirs(folder_path, exist_ok=True)\n",
    "\n",
    "        for filename in os.listdir(directory_path):\n",
    "            file_path = os.path.join(directory_path, filename)\n",
    "            \n",
    "            if not os.path.isfile(file_path):\n",
    "                continue\n",
    "            \n",
    "            ext = filename.split('.')[-1].lower()\n",
    "            \n",
    "            if ext in file_type_folders:\n",
    "                destination_folder = file_type_folders[ext]\n",
    "                destination_path = os.path.join(directory_path, destination_folder, filename)\n",
    "                \n",
    "                shutil.move(file_path, destination_path)\n",
    "                print(f\"Moved: {filename} -> {destination_folder}\")\n",
    "        \n",
    "        print(\"Files Organized successfully.\")\n",
    "    except Exception as e:\n",
    "        print(f\"An error occurred: {e}\")\n",
    "\n",
    "# Specify the directory path\n",
    "directory = input(\"Enter the directory path: \")\n",
    "organize_files_by_type(directory)\n"
   ]
  },
  {
   "cell_type": "code",
   "execution_count": null,
   "id": "ca43b6ad-7f0b-46f9-92ea-99eb1eb0295b",
   "metadata": {},
   "outputs": [],
   "source": []
  }
 ],
 "metadata": {
  "kernelspec": {
   "display_name": "Python 3 (ipykernel)",
   "language": "python",
   "name": "python3"
  },
  "language_info": {
   "codemirror_mode": {
    "name": "ipython",
    "version": 3
   },
   "file_extension": ".py",
   "mimetype": "text/x-python",
   "name": "python",
   "nbconvert_exporter": "python",
   "pygments_lexer": "ipython3",
   "version": "3.12.4"
  }
 },
 "nbformat": 4,
 "nbformat_minor": 5
}
